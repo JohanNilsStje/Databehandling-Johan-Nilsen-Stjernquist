{
 "cells": [
  {
   "cell_type": "markdown",
   "metadata": {},
   "source": [
    "### Uppgift 3 - KPIer & explorativ dataanalys\n",
    "Definiera 3-6 KPIer utöver de som använts i ovanstående uppgifter och gör explorativ dataanalys på flera\n",
    "sheets på båda Excel-filerna. Se till att dokumentera vad du undersöker med markdown kombinerad med\n",
    "kod i Jupyter notebook eller om du använder Pythonskript, skriv en markdown vid sidan om. Dokumentera\n",
    "också vad du kommer fram till och spara alla visualiseringar."
   ]
  },
  {
   "cell_type": "markdown",
   "metadata": {},
   "source": [
    "#### KPIer som jag definerat:\n",
    "1. Andel vaccinerade samt andel som tar dos 2-3-4\n",
    "2. För att se om vaccinet fungerar kan vi jämföra antalet nya fall samt dödsantalet per 100 000 invånare ju lägre den är desto bättre\n",
    "3. En annan KPI kan vara att se hur stor andel av människor som väljer att ta dos 2,3,4,5 efter första dosen\n",
    "\n",
    "0. Men väljer att börja utforska dessa kpier imorgon 2023-11-15"
   ]
  }
 ],
 "metadata": {
  "language_info": {
   "name": "python"
  }
 },
 "nbformat": 4,
 "nbformat_minor": 2
}
