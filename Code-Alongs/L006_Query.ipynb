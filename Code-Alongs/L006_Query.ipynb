{
 "cells": [
  {
   "cell_type": "markdown",
   "metadata": {},
   "source": [
    "### Bool mask and bool indexing.\n"
   ]
  },
  {
   "cell_type": "code",
   "execution_count": 8,
   "metadata": {},
   "outputs": [
    {
     "data": {
      "text/html": [
       "<div>\n",
       "<style scoped>\n",
       "    .dataframe tbody tr th:only-of-type {\n",
       "        vertical-align: middle;\n",
       "    }\n",
       "\n",
       "    .dataframe tbody tr th {\n",
       "        vertical-align: top;\n",
       "    }\n",
       "\n",
       "    .dataframe thead th {\n",
       "        text-align: right;\n",
       "    }\n",
       "</style>\n",
       "<table border=\"1\" class=\"dataframe\">\n",
       "  <thead>\n",
       "    <tr style=\"text-align: right;\">\n",
       "      <th></th>\n",
       "      <th>A</th>\n",
       "      <th>B</th>\n",
       "      <th>C</th>\n",
       "      <th>D</th>\n",
       "    </tr>\n",
       "  </thead>\n",
       "  <tbody>\n",
       "    <tr>\n",
       "      <th>0</th>\n",
       "      <td>-0.483869</td>\n",
       "      <td>-0.055294</td>\n",
       "      <td>0.020698</td>\n",
       "      <td>-0.917756</td>\n",
       "    </tr>\n",
       "    <tr>\n",
       "      <th>1</th>\n",
       "      <td>0.774484</td>\n",
       "      <td>0.861168</td>\n",
       "      <td>1.398304</td>\n",
       "      <td>0.950032</td>\n",
       "    </tr>\n",
       "    <tr>\n",
       "      <th>2</th>\n",
       "      <td>-1.565672</td>\n",
       "      <td>-1.391946</td>\n",
       "      <td>-0.971331</td>\n",
       "      <td>1.197362</td>\n",
       "    </tr>\n",
       "    <tr>\n",
       "      <th>3</th>\n",
       "      <td>-0.336773</td>\n",
       "      <td>-1.553911</td>\n",
       "      <td>1.416591</td>\n",
       "      <td>-1.373300</td>\n",
       "    </tr>\n",
       "    <tr>\n",
       "      <th>4</th>\n",
       "      <td>-0.927783</td>\n",
       "      <td>0.772012</td>\n",
       "      <td>-0.391267</td>\n",
       "      <td>2.053619</td>\n",
       "    </tr>\n",
       "    <tr>\n",
       "      <th>5</th>\n",
       "      <td>0.128875</td>\n",
       "      <td>0.738176</td>\n",
       "      <td>-1.157942</td>\n",
       "      <td>0.665830</td>\n",
       "    </tr>\n",
       "    <tr>\n",
       "      <th>6</th>\n",
       "      <td>1.800742</td>\n",
       "      <td>0.711100</td>\n",
       "      <td>-1.385889</td>\n",
       "      <td>0.242027</td>\n",
       "    </tr>\n",
       "  </tbody>\n",
       "</table>\n",
       "</div>"
      ],
      "text/plain": [
       "          A         B         C         D\n",
       "0 -0.483869 -0.055294  0.020698 -0.917756\n",
       "1  0.774484  0.861168  1.398304  0.950032\n",
       "2 -1.565672 -1.391946 -0.971331  1.197362\n",
       "3 -0.336773 -1.553911  1.416591 -1.373300\n",
       "4 -0.927783  0.772012 -0.391267  2.053619\n",
       "5  0.128875  0.738176 -1.157942  0.665830\n",
       "6  1.800742  0.711100 -1.385889  0.242027"
      ]
     },
     "execution_count": 8,
     "metadata": {},
     "output_type": "execute_result"
    }
   ],
   "source": [
    "import numpy as np\n",
    "import pandas as pd\n",
    "floats = pd.DataFrame(np.random.randn(7,4), columns=[\"A\",\"B\",\"C\",\"D\"])\n",
    "floats"
   ]
  },
  {
   "cell_type": "code",
   "execution_count": 10,
   "metadata": {},
   "outputs": [
    {
     "data": {
      "text/html": [
       "<div>\n",
       "<style scoped>\n",
       "    .dataframe tbody tr th:only-of-type {\n",
       "        vertical-align: middle;\n",
       "    }\n",
       "\n",
       "    .dataframe tbody tr th {\n",
       "        vertical-align: top;\n",
       "    }\n",
       "\n",
       "    .dataframe thead th {\n",
       "        text-align: right;\n",
       "    }\n",
       "</style>\n",
       "<table border=\"1\" class=\"dataframe\">\n",
       "  <thead>\n",
       "    <tr style=\"text-align: right;\">\n",
       "      <th></th>\n",
       "      <th>A</th>\n",
       "      <th>B</th>\n",
       "      <th>C</th>\n",
       "      <th>D</th>\n",
       "    </tr>\n",
       "  </thead>\n",
       "  <tbody>\n",
       "    <tr>\n",
       "      <th>1</th>\n",
       "      <td>0.774484</td>\n",
       "      <td>0.861168</td>\n",
       "      <td>1.398304</td>\n",
       "      <td>0.950032</td>\n",
       "    </tr>\n",
       "    <tr>\n",
       "      <th>4</th>\n",
       "      <td>-0.927783</td>\n",
       "      <td>0.772012</td>\n",
       "      <td>-0.391267</td>\n",
       "      <td>2.053619</td>\n",
       "    </tr>\n",
       "    <tr>\n",
       "      <th>5</th>\n",
       "      <td>0.128875</td>\n",
       "      <td>0.738176</td>\n",
       "      <td>-1.157942</td>\n",
       "      <td>0.665830</td>\n",
       "    </tr>\n",
       "    <tr>\n",
       "      <th>6</th>\n",
       "      <td>1.800742</td>\n",
       "      <td>0.711100</td>\n",
       "      <td>-1.385889</td>\n",
       "      <td>0.242027</td>\n",
       "    </tr>\n",
       "  </tbody>\n",
       "</table>\n",
       "</div>"
      ],
      "text/plain": [
       "          A         B         C         D\n",
       "1  0.774484  0.861168  1.398304  0.950032\n",
       "4 -0.927783  0.772012 -0.391267  2.053619\n",
       "5  0.128875  0.738176 -1.157942  0.665830\n",
       "6  1.800742  0.711100 -1.385889  0.242027"
      ]
     },
     "execution_count": 10,
     "metadata": {},
     "output_type": "execute_result"
    }
   ],
   "source": [
    "#Creating bool mask for column \"B\"\n",
    "floats[\"B\"] >= 0\n",
    "\n",
    "# Selecting all rows where \"B\" >= 0\n",
    "floats[floats[\"B\"] >= 0]"
   ]
  }
 ],
 "metadata": {
  "kernelspec": {
   "display_name": "Python 3",
   "language": "python",
   "name": "python3"
  },
  "language_info": {
   "codemirror_mode": {
    "name": "ipython",
    "version": 3
   },
   "file_extension": ".py",
   "mimetype": "text/x-python",
   "name": "python",
   "nbconvert_exporter": "python",
   "pygments_lexer": "ipython3",
   "version": "3.12.0"
  }
 },
 "nbformat": 4,
 "nbformat_minor": 2
}
