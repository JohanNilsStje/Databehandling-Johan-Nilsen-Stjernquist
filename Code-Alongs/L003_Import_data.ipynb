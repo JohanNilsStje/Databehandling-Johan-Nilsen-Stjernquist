{
 "cells": [
  {
   "cell_type": "markdown",
   "metadata": {},
   "source": [
    "# Data from file\n",
    "Pandas supports loading data from multiple file formats, including: excel, csv, json and xml"
   ]
  },
  {
   "cell_type": "code",
   "execution_count": 2,
   "metadata": {},
   "outputs": [],
   "source": [
    "import pandas as pd\n",
    "pd.read_[FILE_EXTENSION](\"../data/filename.fileextension\", header=None)\n"
   ]
  },
  {
   "cell_type": "code",
   "execution_count": null,
   "metadata": {},
   "outputs": [],
   "source": [
    "autos = pd.read_json(\"../data/autos.json\")\n"
   ]
  },
  {
   "cell_type": "code",
   "execution_count": 8,
   "metadata": {},
   "outputs": [
    {
     "ename": "FileNotFoundError",
     "evalue": "[Errno 2] No such file or directory: '../Data/name.excel'",
     "output_type": "error",
     "traceback": [
      "\u001b[1;31m---------------------------------------------------------------------------\u001b[0m",
      "\u001b[1;31mFileNotFoundError\u001b[0m                         Traceback (most recent call last)",
      "\u001b[1;32mc:\\Users\\johan\\schoolwork\\Databehandling-Johan-Nilsen-Stjernquist\\Databehandling-Johan-Nilsen-Stjernquist\\Code-Alongs\\L003_Import_data.ipynb Cell 4\u001b[0m line \u001b[0;36m1\n\u001b[1;32m----> <a href='vscode-notebook-cell:/c%3A/Users/johan/schoolwork/Databehandling-Johan-Nilsen-Stjernquist/Databehandling-Johan-Nilsen-Stjernquist/Code-Alongs/L003_Import_data.ipynb#W4sZmlsZQ%3D%3D?line=0'>1</a>\u001b[0m scb \u001b[39m=\u001b[39m pd\u001b[39m.\u001b[39;49mread_excel(\u001b[39m\"\u001b[39;49m\u001b[39m../Data/name.excel\u001b[39;49m\u001b[39m\"\u001b[39;49m)\n",
      "File \u001b[1;32mc:\\Users\\johan\\AppData\\Local\\Programs\\Python\\Python312\\Lib\\site-packages\\pandas\\io\\excel\\_base.py:504\u001b[0m, in \u001b[0;36mread_excel\u001b[1;34m(io, sheet_name, header, names, index_col, usecols, dtype, engine, converters, true_values, false_values, skiprows, nrows, na_values, keep_default_na, na_filter, verbose, parse_dates, date_parser, date_format, thousands, decimal, comment, skipfooter, storage_options, dtype_backend, engine_kwargs)\u001b[0m\n\u001b[0;32m    502\u001b[0m \u001b[39mif\u001b[39;00m \u001b[39mnot\u001b[39;00m \u001b[39misinstance\u001b[39m(io, ExcelFile):\n\u001b[0;32m    503\u001b[0m     should_close \u001b[39m=\u001b[39m \u001b[39mTrue\u001b[39;00m\n\u001b[1;32m--> 504\u001b[0m     io \u001b[39m=\u001b[39m ExcelFile(\n\u001b[0;32m    505\u001b[0m         io,\n\u001b[0;32m    506\u001b[0m         storage_options\u001b[39m=\u001b[39;49mstorage_options,\n\u001b[0;32m    507\u001b[0m         engine\u001b[39m=\u001b[39;49mengine,\n\u001b[0;32m    508\u001b[0m         engine_kwargs\u001b[39m=\u001b[39;49mengine_kwargs,\n\u001b[0;32m    509\u001b[0m     )\n\u001b[0;32m    510\u001b[0m \u001b[39melif\u001b[39;00m engine \u001b[39mand\u001b[39;00m engine \u001b[39m!=\u001b[39m io\u001b[39m.\u001b[39mengine:\n\u001b[0;32m    511\u001b[0m     \u001b[39mraise\u001b[39;00m \u001b[39mValueError\u001b[39;00m(\n\u001b[0;32m    512\u001b[0m         \u001b[39m\"\u001b[39m\u001b[39mEngine should not be specified when passing \u001b[39m\u001b[39m\"\u001b[39m\n\u001b[0;32m    513\u001b[0m         \u001b[39m\"\u001b[39m\u001b[39man ExcelFile - ExcelFile already has the engine set\u001b[39m\u001b[39m\"\u001b[39m\n\u001b[0;32m    514\u001b[0m     )\n",
      "File \u001b[1;32mc:\\Users\\johan\\AppData\\Local\\Programs\\Python\\Python312\\Lib\\site-packages\\pandas\\io\\excel\\_base.py:1563\u001b[0m, in \u001b[0;36mExcelFile.__init__\u001b[1;34m(self, path_or_buffer, engine, storage_options, engine_kwargs)\u001b[0m\n\u001b[0;32m   1561\u001b[0m     ext \u001b[39m=\u001b[39m \u001b[39m\"\u001b[39m\u001b[39mxls\u001b[39m\u001b[39m\"\u001b[39m\n\u001b[0;32m   1562\u001b[0m \u001b[39melse\u001b[39;00m:\n\u001b[1;32m-> 1563\u001b[0m     ext \u001b[39m=\u001b[39m inspect_excel_format(\n\u001b[0;32m   1564\u001b[0m         content_or_path\u001b[39m=\u001b[39;49mpath_or_buffer, storage_options\u001b[39m=\u001b[39;49mstorage_options\n\u001b[0;32m   1565\u001b[0m     )\n\u001b[0;32m   1566\u001b[0m     \u001b[39mif\u001b[39;00m ext \u001b[39mis\u001b[39;00m \u001b[39mNone\u001b[39;00m:\n\u001b[0;32m   1567\u001b[0m         \u001b[39mraise\u001b[39;00m \u001b[39mValueError\u001b[39;00m(\n\u001b[0;32m   1568\u001b[0m             \u001b[39m\"\u001b[39m\u001b[39mExcel file format cannot be determined, you must specify \u001b[39m\u001b[39m\"\u001b[39m\n\u001b[0;32m   1569\u001b[0m             \u001b[39m\"\u001b[39m\u001b[39man engine manually.\u001b[39m\u001b[39m\"\u001b[39m\n\u001b[0;32m   1570\u001b[0m         )\n",
      "File \u001b[1;32mc:\\Users\\johan\\AppData\\Local\\Programs\\Python\\Python312\\Lib\\site-packages\\pandas\\io\\excel\\_base.py:1419\u001b[0m, in \u001b[0;36minspect_excel_format\u001b[1;34m(content_or_path, storage_options)\u001b[0m\n\u001b[0;32m   1416\u001b[0m \u001b[39mif\u001b[39;00m \u001b[39misinstance\u001b[39m(content_or_path, \u001b[39mbytes\u001b[39m):\n\u001b[0;32m   1417\u001b[0m     content_or_path \u001b[39m=\u001b[39m BytesIO(content_or_path)\n\u001b[1;32m-> 1419\u001b[0m \u001b[39mwith\u001b[39;00m get_handle(\n\u001b[0;32m   1420\u001b[0m     content_or_path, \u001b[39m\"\u001b[39;49m\u001b[39mrb\u001b[39;49m\u001b[39m\"\u001b[39;49m, storage_options\u001b[39m=\u001b[39;49mstorage_options, is_text\u001b[39m=\u001b[39;49m\u001b[39mFalse\u001b[39;49;00m\n\u001b[0;32m   1421\u001b[0m ) \u001b[39mas\u001b[39;00m handle:\n\u001b[0;32m   1422\u001b[0m     stream \u001b[39m=\u001b[39m handle\u001b[39m.\u001b[39mhandle\n\u001b[0;32m   1423\u001b[0m     stream\u001b[39m.\u001b[39mseek(\u001b[39m0\u001b[39m)\n",
      "File \u001b[1;32mc:\\Users\\johan\\AppData\\Local\\Programs\\Python\\Python312\\Lib\\site-packages\\pandas\\io\\common.py:872\u001b[0m, in \u001b[0;36mget_handle\u001b[1;34m(path_or_buf, mode, encoding, compression, memory_map, is_text, errors, storage_options)\u001b[0m\n\u001b[0;32m    863\u001b[0m         handle \u001b[39m=\u001b[39m \u001b[39mopen\u001b[39m(\n\u001b[0;32m    864\u001b[0m             handle,\n\u001b[0;32m    865\u001b[0m             ioargs\u001b[39m.\u001b[39mmode,\n\u001b[1;32m   (...)\u001b[0m\n\u001b[0;32m    868\u001b[0m             newline\u001b[39m=\u001b[39m\u001b[39m\"\u001b[39m\u001b[39m\"\u001b[39m,\n\u001b[0;32m    869\u001b[0m         )\n\u001b[0;32m    870\u001b[0m     \u001b[39melse\u001b[39;00m:\n\u001b[0;32m    871\u001b[0m         \u001b[39m# Binary mode\u001b[39;00m\n\u001b[1;32m--> 872\u001b[0m         handle \u001b[39m=\u001b[39m \u001b[39mopen\u001b[39;49m(handle, ioargs\u001b[39m.\u001b[39;49mmode)\n\u001b[0;32m    873\u001b[0m     handles\u001b[39m.\u001b[39mappend(handle)\n\u001b[0;32m    875\u001b[0m \u001b[39m# Convert BytesIO or file objects passed with an encoding\u001b[39;00m\n",
      "\u001b[1;31mFileNotFoundError\u001b[0m: [Errno 2] No such file or directory: '../Data/name.excel'"
     ]
    }
   ],
   "source": [
    "scb = pd.read_excel(\"../Data/name.excel\")\n",
    "\n",
    "\n",
    "     "
   ]
  },
  {
   "cell_type": "code",
   "execution_count": 22,
   "metadata": {},
   "outputs": [
    {
     "data": {
      "text/plain": [
       "[                      Company          Contact  Country\n",
       " 0         Alfreds Futterkiste     Maria Anders  Germany\n",
       " 1  Centro comercial Moctezuma  Francisco Chang   Mexico]"
      ]
     },
     "execution_count": 22,
     "metadata": {},
     "output_type": "execute_result"
    }
   ],
   "source": [
    "html = pd.read_html(\"../Data/index.html\")\n",
    "\n",
    "html"
   ]
  },
  {
   "cell_type": "code",
   "execution_count": 27,
   "metadata": {},
   "outputs": [
    {
     "data": {
      "text/html": [
       "<div>\n",
       "<style scoped>\n",
       "    .dataframe tbody tr th:only-of-type {\n",
       "        vertical-align: middle;\n",
       "    }\n",
       "\n",
       "    .dataframe tbody tr th {\n",
       "        vertical-align: top;\n",
       "    }\n",
       "\n",
       "    .dataframe thead th {\n",
       "        text-align: right;\n",
       "    }\n",
       "</style>\n",
       "<table border=\"1\" class=\"dataframe\">\n",
       "  <thead>\n",
       "    <tr style=\"text-align: right;\">\n",
       "      <th></th>\n",
       "      <th>aspiration</th>\n",
       "      <th>body-style</th>\n",
       "      <th>bore</th>\n",
       "      <th>city-mpg</th>\n",
       "      <th>compression-ratio</th>\n",
       "      <th>curb-weight</th>\n",
       "      <th>drive-wheels</th>\n",
       "      <th>engine-location</th>\n",
       "      <th>engine-size</th>\n",
       "      <th>engine-type</th>\n",
       "      <th>...</th>\n",
       "      <th>make</th>\n",
       "      <th>normalized-losses</th>\n",
       "      <th>num-of-cylinders</th>\n",
       "      <th>num-of-doors</th>\n",
       "      <th>peak-rpm</th>\n",
       "      <th>price</th>\n",
       "      <th>stroke</th>\n",
       "      <th>symboling</th>\n",
       "      <th>wheel-base</th>\n",
       "      <th>width</th>\n",
       "    </tr>\n",
       "  </thead>\n",
       "  <tbody>\n",
       "    <tr>\n",
       "      <th>0</th>\n",
       "      <td>std</td>\n",
       "      <td>convertible</td>\n",
       "      <td>3.47</td>\n",
       "      <td>21</td>\n",
       "      <td>9.0</td>\n",
       "      <td>2548</td>\n",
       "      <td>rwd</td>\n",
       "      <td>front</td>\n",
       "      <td>130</td>\n",
       "      <td>dohc</td>\n",
       "      <td>...</td>\n",
       "      <td>alfa-romero</td>\n",
       "      <td>NaN</td>\n",
       "      <td>four</td>\n",
       "      <td>two</td>\n",
       "      <td>5000.0</td>\n",
       "      <td>13495.0</td>\n",
       "      <td>2.68</td>\n",
       "      <td>3</td>\n",
       "      <td>88.6</td>\n",
       "      <td>64.1</td>\n",
       "    </tr>\n",
       "    <tr>\n",
       "      <th>1</th>\n",
       "      <td>std</td>\n",
       "      <td>convertible</td>\n",
       "      <td>3.47</td>\n",
       "      <td>21</td>\n",
       "      <td>9.0</td>\n",
       "      <td>2548</td>\n",
       "      <td>rwd</td>\n",
       "      <td>front</td>\n",
       "      <td>130</td>\n",
       "      <td>dohc</td>\n",
       "      <td>...</td>\n",
       "      <td>alfa-romero</td>\n",
       "      <td>NaN</td>\n",
       "      <td>four</td>\n",
       "      <td>two</td>\n",
       "      <td>5000.0</td>\n",
       "      <td>16500.0</td>\n",
       "      <td>2.68</td>\n",
       "      <td>3</td>\n",
       "      <td>88.6</td>\n",
       "      <td>64.1</td>\n",
       "    </tr>\n",
       "    <tr>\n",
       "      <th>2</th>\n",
       "      <td>std</td>\n",
       "      <td>hatchback</td>\n",
       "      <td>2.68</td>\n",
       "      <td>19</td>\n",
       "      <td>9.0</td>\n",
       "      <td>2823</td>\n",
       "      <td>rwd</td>\n",
       "      <td>front</td>\n",
       "      <td>152</td>\n",
       "      <td>ohcv</td>\n",
       "      <td>...</td>\n",
       "      <td>alfa-romero</td>\n",
       "      <td>NaN</td>\n",
       "      <td>six</td>\n",
       "      <td>two</td>\n",
       "      <td>5000.0</td>\n",
       "      <td>16500.0</td>\n",
       "      <td>3.47</td>\n",
       "      <td>1</td>\n",
       "      <td>94.5</td>\n",
       "      <td>65.5</td>\n",
       "    </tr>\n",
       "    <tr>\n",
       "      <th>3</th>\n",
       "      <td>std</td>\n",
       "      <td>sedan</td>\n",
       "      <td>3.19</td>\n",
       "      <td>24</td>\n",
       "      <td>10.0</td>\n",
       "      <td>2337</td>\n",
       "      <td>fwd</td>\n",
       "      <td>front</td>\n",
       "      <td>109</td>\n",
       "      <td>ohc</td>\n",
       "      <td>...</td>\n",
       "      <td>audi</td>\n",
       "      <td>164.0</td>\n",
       "      <td>four</td>\n",
       "      <td>four</td>\n",
       "      <td>5500.0</td>\n",
       "      <td>13950.0</td>\n",
       "      <td>3.40</td>\n",
       "      <td>2</td>\n",
       "      <td>99.8</td>\n",
       "      <td>66.2</td>\n",
       "    </tr>\n",
       "  </tbody>\n",
       "</table>\n",
       "<p>4 rows × 26 columns</p>\n",
       "</div>"
      ],
      "text/plain": [
       "  aspiration   body-style  bore  city-mpg  compression-ratio  curb-weight  \\\n",
       "0        std  convertible  3.47        21                9.0         2548   \n",
       "1        std  convertible  3.47        21                9.0         2548   \n",
       "2        std    hatchback  2.68        19                9.0         2823   \n",
       "3        std        sedan  3.19        24               10.0         2337   \n",
       "\n",
       "  drive-wheels engine-location  engine-size engine-type  ...         make  \\\n",
       "0          rwd           front          130        dohc  ...  alfa-romero   \n",
       "1          rwd           front          130        dohc  ...  alfa-romero   \n",
       "2          rwd           front          152        ohcv  ...  alfa-romero   \n",
       "3          fwd           front          109         ohc  ...         audi   \n",
       "\n",
       "  normalized-losses  num-of-cylinders  num-of-doors  peak-rpm    price stroke  \\\n",
       "0               NaN              four           two    5000.0  13495.0   2.68   \n",
       "1               NaN              four           two    5000.0  16500.0   2.68   \n",
       "2               NaN               six           two    5000.0  16500.0   3.47   \n",
       "3             164.0              four          four    5500.0  13950.0   3.40   \n",
       "\n",
       "   symboling wheel-base width  \n",
       "0          3       88.6  64.1  \n",
       "1          3       88.6  64.1  \n",
       "2          1       94.5  65.5  \n",
       "3          2       99.8  66.2  \n",
       "\n",
       "[4 rows x 26 columns]"
      ]
     },
     "execution_count": 27,
     "metadata": {},
     "output_type": "execute_result"
    }
   ],
   "source": [
    "autos = pd.read_json(\"../Data/autos.json\")\n",
    "\n",
    "autos.head(4)\n"
   ]
  },
  {
   "cell_type": "markdown",
   "metadata": {},
   "source": [
    "# Convert"
   ]
  },
  {
   "cell_type": "code",
   "execution_count": null,
   "metadata": {},
   "outputs": [],
   "source": [
    "#Copy dataframe to clipboard then use ctrl v\n",
    "autos.to_clipboard()"
   ]
  },
  {
   "cell_type": "code",
   "execution_count": 35,
   "metadata": {},
   "outputs": [],
   "source": [
    "csv_string = autos.to_csv(\"../Data/autos.csv\")\n"
   ]
  }
 ],
 "metadata": {
  "kernelspec": {
   "display_name": "Python 3",
   "language": "python",
   "name": "python3"
  },
  "language_info": {
   "codemirror_mode": {
    "name": "ipython",
    "version": 3
   },
   "file_extension": ".py",
   "mimetype": "text/x-python",
   "name": "python",
   "nbconvert_exporter": "python",
   "pygments_lexer": "ipython3",
   "version": "3.12.0"
  }
 },
 "nbformat": 4,
 "nbformat_minor": 2
}
